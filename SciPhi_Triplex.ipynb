{
 "cells": [
  {
   "cell_type": "code",
   "execution_count": 3,
   "id": "46ecfc17-d492-4431-8a12-8f7d7a560126",
   "metadata": {},
   "outputs": [],
   "source": [
    "import json\n",
    "\n",
    "\n"
   ]
  },
  {
   "cell_type": "code",
   "execution_count": null,
   "id": "cd0aa4d5-3987-486f-a3a3-df3dad983822",
   "metadata": {},
   "outputs": [],
   "source": []
  },
  {
   "cell_type": "code",
   "execution_count": 4,
   "id": "0e4f3e09-757d-43ce-8533-c433f7b78b6d",
   "metadata": {},
   "outputs": [],
   "source": [
    "# Load the JSON file\n",
    "with open(r\"D:\\radipaem\\all_papers_metadata.json\", \"r\", encoding=\"utf-8\") as file:\n",
    "    data = json.load(file)  # Read JSON content\n",
    "\n"
   ]
  },
  {
   "cell_type": "code",
   "execution_count": 5,
   "id": "7b605a19-cef5-49a2-8d52-62bbb977337e",
   "metadata": {
    "scrolled": true
   },
   "outputs": [
    {
     "name": "stdout",
     "output_type": "stream",
     "text": [
      "[{'tag': 'title', 'text': 'Transitional care for rheumatic conditions in Europe: current clinical practice and available resources'}, {'tag': 'orgName', 'text': 'German Leibniz Association'}, {'tag': 'orgName', 'text': 'EULAR/ PReS'}, {'tag': 'publisher', 'text': 'Springer Science and Business Media LLC'}, {'tag': 'p', 'text': 'Copyright Springer Science and Business Media LLC'}, {'tag': 'date', 'text': '2017-06-09'}, {'tag': 'forename', 'text': 'Daniel'}, {'tag': 'surname', 'text': 'Clemente'}, {'tag': 'orgName', 'text': 'Paediatric Rheumatology Unit'}, {'tag': 'orgName', 'text': 'Hospital Infantil Universitario \"Niño Jesús\"'}, {'tag': 'settlement', 'text': 'Madrid'}, {'tag': 'country', 'text': 'Spain'}, {'tag': 'forename', 'text': 'Leticia'}, {'tag': 'surname', 'text': 'Leon'}, {'tag': 'orgName', 'text': 'IDISSC'}, {'tag': 'orgName', 'text': 'Hospital Clínico San Carlos; Health Sciences'}, {'tag': 'orgName', 'text': 'Universidad Camilo José Cela'}, {'tag': 'settlement', 'text': 'Madrid'}, {'tag': 'country', 'text': 'Spain'}, {'tag': 'forename', 'text': 'Helen'}, {'tag': 'surname', 'text': 'Foster'}, {'tag': 'orgName', 'text': 'Institute Cellular Medicine'}, {'tag': 'orgName', 'text': \"Great North Children's Hospital\"}, {'tag': 'orgName', 'text': 'Musculoskeletal Research Group'}, {'tag': 'orgName', 'text': 'Newcastle University'}, {'tag': 'orgName', 'text': 'Newcastle Hospitals NHS Foundation Trust'}, {'tag': 'settlement', 'text': 'Newcastle upon Tyne'}, {'tag': 'country', 'text': 'UK'}, {'tag': 'forename', 'text': 'Loreto'}, {'tag': 'surname', 'text': 'Carmona'}, {'tag': 'orgName', 'text': 'Instituto de Salud Musculoesquelética'}, {'tag': 'settlement', 'text': 'Madrid'}, {'tag': 'country', 'text': 'Spain'}, {'tag': 'forename', 'text': 'Kirsten'}, {'tag': 'surname', 'text': 'Minden'}, {'tag': 'email', 'text': 'minden@drfz.de'}, {'tag': 'idno', 'text': '0000-0003-2775-0111'}, {'tag': 'orgName', 'text': 'Department of Rheumatology and Clinical Immunology, and German Rheumatism Research Centre'}, {'tag': 'orgName', 'text': 'Charité University Medicine Berlin'}, {'tag': 'orgName', 'text': 'Department of Rheumatology and Clinical Immunology, and German Rheumatism Research Centre'}, {'tag': 'orgName', 'text': 'Charité University Medicine Berlin'}, {'tag': 'orgName', 'text': 'Leibniz Institute'}, {'tag': 'settlement', 'text': 'Berlin'}, {'tag': 'country', 'text': 'Germany'}, {'tag': 'orgName', 'text': 'Leibniz Institute'}, {'tag': 'settlement', 'text': 'Berlin'}, {'tag': 'country', 'text': 'Germany'}, {'tag': 'title', 'text': 'Transitional care for rheumatic conditions in Europe: current clinical practice and available resources'}, {'tag': 'title', 'text': 'Pediatric Rheumatology'}, {'tag': 'title', 'text': 'Pediatr Rheumatol'}, {'tag': 'idno', 'text': '1546-0096'}, {'tag': 'publisher', 'text': 'Springer Science and Business Media LLC'}, {'tag': 'biblScope', 'text': '15'}, {'tag': 'biblScope', 'text': '1'}, {'tag': 'idno', 'text': 'D02C4EFB528FD453CD337C0E5D40FFCE'}, {'tag': 'idno', 'text': '10.1186/s12969-017-0179-8'}, {'tag': 'note', 'text': 'Received: 7 March 2017 Accepted: 5 June 2017'}, {'tag': 'desc', 'text': 'GROBID - A machine learning software for extracting information from scholarly documents'}, {'tag': 'term', 'text': 'Transitional care'}, {'tag': 'term', 'text': 'Rheumatic diseases'}, {'tag': 'term', 'text': 'Adolescents'}, {'tag': 'term', 'text': 'Young adults'}, {'tag': 'term', 'text': 'Chronic disease'}, {'tag': 'term', 'text': 'Survey method'}, {'tag': 'p', 'text': \"Objective: To assess European pediatric rheumatology providers' current clinical practices and resources used in the transition from child-centered to adult-oriented care. Methods: European pediatric rheumatologists were invited to complete a 17-item anonymized e-survey assessing current transition practices, transition policy awareness, and needs in advance of the publication of EULAR/PReS recommendations on transition. Results: The response rate was 121/276 (44%), including responses from 115 centers in 22 European Union countries. Although 32/121 (26%) responded that their centers did not offer transition services, the majority (99%) agreed that a formalized process in transitioning patients to adult care is necessary. A minority (<30%) of respondents stated that they have a written transition policy although 46% have an informal transition process. Designated staff to support transitional care were available in a minority of centers: nurse (35%), physiotherapist (15%), psychologist (15%), social worker (8%), and occupational therapist (2%). The existence of a designated team member to coordinate transition was acknowledged in many centers (64% of respondents) although just 36% use a checklist for young people as part of individualized transitional care. Conclusion: This survey of European pediatric rheumatology providers regarding transitional care practices demonstrates agreement that transitional care is important, and wide variation in current provision of transition services exists.\"}, {'tag': 'p', 'text': 'Juvenile onset rheumatic and musculoskeletal diseases (jRMDs) have high impact on all aspects of the lives of children, young people (YP) and their families. Based on prevalence rates, it is estimated that there are 75,000 children under 16 years old with juvenile idiopathic arthritis (JIA)'}, {'tag': 'ref', 'text': '[1]'}, {'tag': 'ref', 'text': '[2]'}, {'tag': 'ref', 'text': '[3]'}, {'tag': 'ref', 'text': '[4]'}, {'tag': 'ref', 'text': '[5]'}, {'tag': 'ref', 'text': '[6,'}, {'tag': 'ref', 'text': '7]'}, {'tag': 'ref', 'text': '[8]'}, {'tag': 'p', 'text': 'Whilst the rationale and aims of transitional care in young people with jRMD are clear, organization and delivery of transitional care and what constitutes the ideal service, remains unclear'}, {'tag': 'ref', 'text': '[9,'}, {'tag': 'ref', 'text': '10]'}, {'tag': 'ref', 'text': '[11]'}, {'tag': 'ref', 'text': '[12]'}, {'tag': 'ref', 'text': '[13]'}, {'tag': 'ref', 'text': '[14]'}, {'tag': 'head', 'text': 'Methods'}, {'tag': 'p', 'text': 'European pediatric rheumatologists were invited to complete an anonymized 17-item e-survey assessing their current transition practice. The questionnaire was developed by the authors (DC, LL, HF, LC, KM) after a systematic literature review and critical appraisal of transitional care programs in rheumatology'}, {'tag': 'ref', 'text': '[10]'}, {'tag': 'ref', 'text': '[14]'}, {'tag': 'ref', 'text': '[12]'}, {'tag': 'p', 'text': 'The study was conducted in cooperation with PRINTO. We did not collect personal identifiable information, such as telephone numbers, names of individuals or institutions, or addresses. The survey respondents voluntarily participated in the study giving their consent to data collection for the purpose of scientific research.'}, {'tag': 'p', 'text': 'Descriptive statistics are presented and where possible the results were compared with the North American 2014 survey'}, {'tag': 'ref', 'text': '[12]'}, {'tag': 'ref', 'text': '[15,'}, {'tag': 'ref', 'text': '16]'}, {'tag': 'head', 'text': 'Results'}, {'tag': 'head', 'text': 'Respondent demographics and characteristics'}, {'tag': 'p', 'text': \"The link to the survey was e-mailed to pediatric rheumatologists (n = 276) from PRINTO centers in 25 European Union countries in April 2016. Of these, 121 responded (44% response rate), representing 115 centers in 22 countries, and thus much of the European Union. Exceptions were Bulgaria, Estonia and Lithuania from whom no responses were received, and Cyprus, Malta and Luxemburg which do not currently have PRINTO centers. The 115 centers who responded correspond to 88% of the PRINTO centers currently listed on the PRINTO-website in those 22 countries. These represent centers with a special interest in research and potentially more likely to have an interest in transition. Most respondents (n = 60; 49%) work in a universityaffiliated practice, 39% (n = 47) in a designated children's hospital, 4% (n = 5) in private practice and 7% (n = 8) in other settings.\"}, {'tag': 'head', 'text': 'Transition policy, staff involved, tools and resources'}, {'tag': 'p', 'text': 'Most (n = 120; 99%) respondents regarded a transition policy as being necessary for good clinical practice. The majority stated that they follow an informal transitional care with only one in four centers having a written transition policy (Table'}, {'tag': 'ref', 'text': '1'}, {'tag': 'ref', 'text': '1'}, {'tag': 'head', 'text': 'Regarding transition policies….* Number Percent'}, {'tag': 'p', 'text': 'We have a written transition policy, which we follow most of the time. 29 23.9'}, {'tag': 'p', 'text': 'We have a written transition policy, but we do not follow it most of the time. health professionals involved including pediatric and adult rheumatologists and nurses being most common (Table'}, {'tag': 'ref', 'text': '2'}, {'tag': 'p', 'text': 'A minority of centers (respondents n = 44; 36.4%) use a checklist as part of an individualized transition plan that includes the topics shown in Table'}, {'tag': 'ref', 'text': '3'}, {'tag': 'p', 'text': 'Of note, less than 10% of centers (respondents n = 11) use a specific readiness for transfer instrument, of these, five use a self-developed readiness scale. Other instruments used are the Transition Readiness Assessment Questionnaire (TRAQ), TRANSITION Scale, Ready Steady Go'}, {'tag': 'ref', 'text': '[17]'}, {'tag': 'p', 'text': 'A minority of respondents (18/121; 15%) reported to use or recommend specific resources for YP and their families. These were mainly websites providing information on juvenile rheumatic diseases, but also on transition aspects, such as the PRINTO website [www.printo.it/pediatric-rheumatology] and the website on transition of the Competence Network Patient Training in Adolescence KomPaS e. V. [www.betweenkompas.de]). Furthermore, a minority (38/121; 31%) use information technology to facilitate communication with YP; mainly Short Message Service (SMS), web platforms, email, or apps and the remainder tend to communicate by telephone.'}, {'tag': 'p', 'text': \"Among the rheumatology centers from different models of care, some differences regarding transition care were observed. In comparison to children's hospitals, University affiliated practices provided somewhat less often transition services (69% vs. 78%), had less often a written transition policy (22% vs. 41%) and used significantly less frequently a checklist as part of individualized transitional care (23% vs. 48%, p = 0.011).\"}, {'tag': 'p', 'text': 'Figure'}, {'tag': 'ref', 'text': '1'}, {'tag': 'ref', 'text': '[12]'}, {'tag': 'head', 'text': 'Discussion'}, {'tag': 'p', 'text': 'This is the first survey to focus on the current practices (rather than solely attitudes or opinions) in transitional care among European pediatric rheumatology providers.'}, {'tag': 'p', 'text': 'As in other chronic diseases that start in childhood, YP with jRMD need specific care during the period of transition from pediatric services to the adult specialty care setting. However, research about current practice and the implementation of transition recommendations are scarce and almost half of the YP with jRMD do not make a successful transfer to adult rheumatology and are, therefore, at increased risk of unfavorable outcomes'}, {'tag': 'ref', 'text': '[5,'}, {'tag': 'ref', 'text': '18,'}, {'tag': 'ref', 'text': '19]'}, {'tag': 'ref', 'text': '[14]'}, {'tag': 'ref', 'text': '[14]'}, {'tag': 'p', 'text': 'The presence of a transition coordinator is another key element of transition and one of the EULAR/PReS recommendations; the aim being to ensure implementation and evaluation of the transition program and improving communication between health professionals, YP and families'}, {'tag': 'ref', 'text': '[8,'}, {'tag': 'ref', 'text': '14]'}, {'tag': 'ref', 'text': '[14]'}, {'tag': 'p', 'text': 'Information and education of YP about their disease, treatments and promotion of independent visits to clinic without parents are ideal components of an individualized transition plan. However, it is important to include systematically other important areas of adolescence health, such as risk behavior, substance use, sports, nutrition or sexuality. The HEADSS assessment (Home, Education/ Employment, peer group, Activities, Drugs, Sexuality, Suicide/depression) was developed'}, {'tag': 'ref', 'text': '[20]'}, {'tag': 'ref', 'text': '[14]'}, {'tag': 'p', 'text': 'Our survey did not specifically address timing of transfer. However, it should be noted that only 9.5% use a readiness instrument to validate transfer, reflecting the informal approach to transition in the majority of centers. This issue was heavily discussed in the development of the EULAR/PReS recommendations, as some countries had a designated age for transfer in all cases and independently of YP readiness. Ultimately the EULAR/ PReS recommendations propose that age per se is not specifically used as the trigger for timing of the transfer. Conversely, age is an important indicator for the initiation of transitional care; namely that the transition process should start as early as possible'}, {'tag': 'ref', 'text': '[14]'}, {'tag': 'p', 'text': 'Where possible and with the questions that can be compared, we were able to comment on differences between European and North American respondents. European providers more often do have a transition coordinator (often a doctor) and are more likely to use a written transition policy statement. In both surveys, respondents manifest a strong desire for rheumatologyspecific guidelines for transition'}, {'tag': 'ref', 'text': '[12]'}, {'tag': 'p', 'text': 'In summary, this survey has demonstrated limitations of existing transition practices and paucity of resources. Nonetheless there is a strong commitment within the rheumatology communities (both adult and pediatric), to improve existing transitional care provision. The EULAR/ PReS recommendations are therefore timely and important as a much needed catalyst for change within the rheumatology community.'}, {'tag': 'head', 'text': 'Additional file'}, {'tag': 'p', 'text': 'Additional file 1: Questionnaire on transition practices. (DOC 36 kb)'}, {'tag': 'head', 'text': 'Fig. 1'}, {'tag': 'label', 'text': '1'}, {'tag': 'figDesc', 'text': 'Fig. 1 Comparison of transitional care services offered by European and Childhood Arthritis and Rheumatology Research Alliance (CARRA) pediatric rheumatology providers'}, {'tag': 'head', 'text': 'Table 2'}, {'tag': 'label', 'text': '2'}, {'tag': 'figDesc', 'text': \"Staff involved in the transition services of the respondents' units\"}, {'tag': 'cell', 'text': 'Health professionals in the transition service'}, {'tag': 'cell', 'text': 'Number'}, {'tag': 'cell', 'text': 'Percent'}, {'tag': 'cell', 'text': 'Pediatric rheumatologist'}, {'tag': 'cell', 'text': '92'}, {'tag': 'cell', 'text': '76.0'}, {'tag': 'cell', 'text': 'Adult rheumatologist'}, {'tag': 'cell', 'text': '77'}, {'tag': 'cell', 'text': '63.6'}, {'tag': 'cell', 'text': 'Nurse'}, {'tag': 'cell', 'text': '42'}, {'tag': 'cell', 'text': '34.7'}, {'tag': 'cell', 'text': 'Psychologist'}, {'tag': 'cell', 'text': '18'}, {'tag': 'cell', 'text': '14.8'}, {'tag': 'cell', 'text': 'Physiotherapist'}, {'tag': 'cell', 'text': '18'}, {'tag': 'cell', 'text': '14.8'}, {'tag': 'cell', 'text': 'Social worker'}, {'tag': 'cell', 'text': '10'}, {'tag': 'cell', 'text': '8.2'}, {'tag': 'cell', 'text': 'Occupational therapist'}, {'tag': 'cell', 'text': '3'}, {'tag': 'cell', 'text': '2.4'}, {'tag': 'cell', 'text': 'Others a'}, {'tag': 'cell', 'text': '11'}, {'tag': 'cell', 'text': '9.0'}, {'tag': 'p', 'text': 'a Include: internist, medical assistant, expert patients, orthopedic surgeon, gynecologist'}, {'tag': 'head', 'text': 'Table 3'}, {'tag': 'label', 'text': '3'}, {'tag': 'figDesc', 'text': 'Components of existing individualized transition plans'}, {'tag': 'cell', 'text': 'Checklist components a'}, {'tag': 'cell', 'text': 'Number Percent'}, {'tag': 'cell', 'text': 'Self-management, patient is seen without parents 35'}, {'tag': 'cell', 'text': '79.5'}, {'tag': 'cell', 'text': 'Disease and treatment knowledge'}, {'tag': 'cell', 'text': '39'}, {'tag': 'cell', 'text': '88.6'}, {'tag': 'cell', 'text': 'Name of disease'}, {'tag': 'cell', 'text': '39'}, {'tag': 'cell', 'text': '88.6'}, {'tag': 'cell', 'text': 'Being able to describe disease course'}, {'tag': 'cell', 'text': '32'}, {'tag': 'cell', 'text': '72.7'}, {'tag': 'cell', 'text': 'Signs and symptoms of disease flare'}, {'tag': 'cell', 'text': '33'}, {'tag': 'cell', 'text': '75.0'}, {'tag': 'cell', 'text': 'Signs and symptoms that require an urgent'}, {'tag': 'cell', 'text': '30'}, {'tag': 'cell', 'text': '68.1'}, {'tag': 'cell', 'text': 'consultation'}, {'tag': 'cell', 'text': 'Treatment information'}, {'tag': 'cell', 'text': '40'}, {'tag': 'cell', 'text': '90.9'}, {'tag': 'cell', 'text': 'Possible side effects of treatment'}, {'tag': 'cell', 'text': '36'}, {'tag': 'cell', 'text': '81.8'}, {'tag': 'cell', 'text': 'Health behavior'}, {'tag': 'cell', 'text': '31'}, {'tag': 'cell', 'text': '70.4'}, {'tag': 'cell', 'text': 'Risk behavior'}, {'tag': 'cell', 'text': '29'}, {'tag': 'cell', 'text': '65.9'}, {'tag': 'cell', 'text': 'Alcohol use, smoking, illegal drugs use'}, {'tag': 'cell', 'text': '35'}, {'tag': 'cell', 'text': '79.5'}, {'tag': 'cell', 'text': 'Nutrition'}, {'tag': 'cell', 'text': '27'}, {'tag': 'cell', 'text': '61.3'}, {'tag': 'cell', 'text': 'Sports'}, {'tag': 'cell', 'text': '31'}, {'tag': 'cell', 'text': '70.4'}, {'tag': 'cell', 'text': 'Mental health'}, {'tag': 'cell', 'text': '27'}, {'tag': 'cell', 'text': '61.3'}, {'tag': 'cell', 'text': 'Sexuality, contraception and sexual health'}, {'tag': 'cell', 'text': '34'}, {'tag': 'cell', 'text': '77.2'}, {'tag': 'cell', 'text': 'Future plans'}, {'tag': 'cell', 'text': '33'}, {'tag': 'cell', 'text': '75.0'}, {'tag': 'cell', 'text': 'Educational achievements'}, {'tag': 'cell', 'text': '30'}, {'tag': 'cell', 'text': '68.1'}, {'tag': 'cell', 'text': 'Vocational readiness'}, {'tag': 'cell', 'text': '22'}, {'tag': 'cell', 'text': '50.0'}, {'tag': 'cell', 'text': 'Knowledge of support resources'}, {'tag': 'cell', 'text': '28'}, {'tag': 'cell', 'text': '63.6'}, {'tag': 'cell', 'text': 'Mobility, living alone, travel'}, {'tag': 'cell', 'text': '24'}, {'tag': 'cell', 'text': '54.5'}, {'tag': 'cell', 'text': 'Medical summary available'}, {'tag': 'cell', 'text': '34'}, {'tag': 'cell', 'text': '77.2'}, {'tag': 'cell', 'text': 'Knowledge of differences between pediatric and'}, {'tag': 'cell', 'text': '36'}, {'tag': 'cell', 'text': '81.8'}, {'tag': 'cell', 'text': 'adult rheumatology care'}, {'tag': 'cell', 'text': 'Knowledge about the health system (health'}, {'tag': 'cell', 'text': '21'}, {'tag': 'cell', 'text': '47.7'}, {'tag': 'cell', 'text': 'insurance, general practitioner/family doctor,'}, {'tag': 'cell', 'text': 'health care specialist)'}, {'tag': 'cell', 'text': 'Transfer readiness'}, {'tag': 'cell', 'text': '28'}, {'tag': 'cell', 'text': '63.6'}, {'tag': 'cell', 'text': 'First contact to adult rheumatologist'}, {'tag': 'cell', 'text': '40'}, {'tag': 'cell', 'text': '90.9'}, {'tag': 'p', 'text': 'a Percent obtained from 44 affirmative responses on having a checklist'}, {'tag': 'head', 'text': 'Acknowledgments'}, {'tag': 'p', 'text': 'We thank all colleagues who contributed to the survey. We also thank'}, {'tag': 'rs', 'text': 'Jana Hoerstermann'}, {'tag': 'rs', 'text': 'Chiara Palotti'}, {'tag': 'rs', 'text': 'PRINTO team'}, {'tag': 'head', 'text': 'Funding'}, {'tag': 'p', 'text': 'Funding for publication cost was provided by the'}, {'tag': 'rs', 'text': 'German Leibniz Association'}, {'tag': 'rs', 'text': 'EULAR/ PReS'}, {'tag': 'head', 'text': 'Availability of data and material'}, {'tag': 'p', 'text': 'The data of this survey are available from the last author on reasonable request.'}, {'tag': 'head', 'text': \"Authors' contributions\"}, {'tag': 'p', 'text': 'All authors were involved in drafting the article and approved the final version to be published. Survey conception and design: DC, LL, HF, LC, KM. Acquisition of data: KM. Analysis and interpretation of data: DC, LL, HF, LC, KM.'}, {'tag': 'head', 'text': 'Competing interests'}, {'tag': 'p', 'text': 'The authors declare that they have no competing interests.'}, {'tag': 'head', 'text': 'Consent for publication Not applicable.'}, {'tag': 'p', 'text': 'Ethics approval and consent to participate Not applicable.'}, {'tag': 'head', 'text': \"Publisher's Note\"}, {'tag': 'p', 'text': 'Springer Nature remains neutral with regard to jurisdictional claims in published maps and institutional affiliations.'}, {'tag': 'title', 'text': 'Prevalence and incidence of juvenile idiopathic arthritis: a systematic review'}, {'tag': 'forename', 'text': 'S'}, {'tag': 'surname', 'text': 'Thierry'}, {'tag': 'forename', 'text': 'B'}, {'tag': 'surname', 'text': 'Fautrel'}, {'tag': 'forename', 'text': 'I'}, {'tag': 'surname', 'text': 'Lemelle'}, {'tag': 'forename', 'text': 'F'}, {'tag': 'surname', 'text': 'Guillemin'}, {'tag': 'title', 'text': 'Joint Bone Spine'}, {'tag': 'biblScope', 'text': '81'}, {'tag': 'biblScope', 'text': '2'}, {'tag': 'date', 'text': '2014'}, {'tag': 'title', 'text': 'Worldwide incidence and prevalence of pediatric onset systemic lupus erythematosus'}, {'tag': 'forename', 'text': 'D'}, {'tag': 'surname', 'text': 'Pineles'}, {'tag': 'forename', 'text': 'A'}, {'tag': 'surname', 'text': 'Valente'}, {'tag': 'forename', 'text': 'B'}, {'tag': 'surname', 'text': 'Warren'}, {'tag': 'forename', 'text': 'M'}, {'tag': 'forename', 'text': 'G'}, {'tag': 'surname', 'text': 'Peterson'}, {'tag': 'forename', 'text': 'T'}, {'tag': 'forename', 'text': 'J'}, {'tag': 'surname', 'text': 'Lehman'}, {'tag': 'forename', 'text': 'L'}, {'tag': 'forename', 'text': 'N'}, {'tag': 'surname', 'text': 'Moorthy'}, {'tag': 'title', 'text': 'Lupus'}, {'tag': 'biblScope', 'text': '20'}, {'tag': 'biblScope', 'text': '11'}, {'tag': 'date', 'text': '2011'}, {'tag': 'title', 'text': 'Disease progression into adulthood and predictors of long-term active disease in juvenile idiopathic arthritis'}, {'tag': 'forename', 'text': 'A'}, {'tag': 'forename', 'text': 'M'}, {'tag': 'surname', 'text': 'Selvaag'}, {'tag': 'forename', 'text': 'H'}, {'tag': 'forename', 'text': 'A'}, {'tag': 'surname', 'text': 'Aulie'}, {'tag': 'forename', 'text': 'V'}, {'tag': 'surname', 'text': 'Lilleby'}, {'tag': 'forename', 'text': 'B'}, {'tag': 'surname', 'text': 'Flato'}, {'tag': 'title', 'text': 'Ann Rheum Dis'}, {'tag': 'biblScope', 'text': '75'}, {'tag': 'biblScope', 'text': '1'}, {'tag': 'date', 'text': '2016'}, {'tag': 'title', 'text': 'Impact of juvenile idiopathic arthritis on quality of life during transition period at the era of biotherapies'}, {'tag': 'forename', 'text': 'J'}, {'tag': 'surname', 'text': 'Wipff'}, {'tag': 'forename', 'text': 'L'}, {'tag': 'surname', 'text': 'Sparsa'}, {'tag': 'forename', 'text': 'A'}, {'tag': 'surname', 'text': 'Lohse'}, {'tag': 'forename', 'text': 'P'}, {'tag': 'surname', 'text': 'Quartier'}, {'tag': 'forename', 'text': 'A'}, {'tag': 'surname', 'text': 'Kahan'}, {'tag': 'forename', 'text': 'C'}, {'tag': 'forename', 'text': 'J'}, {'tag': 'surname', 'text': 'Deslandre'}, {'tag': 'title', 'text': 'Joint Bone Spine'}, {'tag': 'biblScope', 'text': '83'}, {'tag': 'biblScope', 'text': '1'}, {'tag': 'date', 'text': '2016'}, {'tag': 'title', 'text': 'Disease activity and transition outcomes in a childhood-onset systemic lupus erythematosus cohort'}, {'tag': 'forename', 'text': 'M'}, {'tag': 'forename', 'text': 'B'}, {'tag': 'surname', 'text': 'Son'}, {'tag': 'forename', 'text': 'Y'}, {'tag': 'surname', 'text': 'Sergeyenko'}, {'tag': 'forename', 'text': 'H'}, {'tag': 'surname', 'text': 'Guan'}, {'tag': 'forename', 'text': 'K'}, {'tag': 'forename', 'text': 'H'}, {'tag': 'surname', 'text': 'Costenbader'}, {'tag': 'title', 'text': 'Lupus'}, {'tag': 'biblScope', 'text': '25'}, {'tag': 'biblScope', 'text': '13'}, {'tag': 'date', 'text': '2016'}, {'tag': 'title', 'text': 'The evidence base for transition is bigger than you might think'}, {'tag': 'forename', 'text': 'J'}, {'tag': 'forename', 'text': 'E'}, {'tag': 'surname', 'text': 'Mcdonagh'}, {'tag': 'forename', 'text': 'J'}, {'tag': 'surname', 'text': 'Hackett'}, {'tag': 'forename', 'text': 'M'}, {'tag': 'surname', 'text': 'Mcgee'}, {'tag': 'forename', 'text': 'T'}, {'tag': 'surname', 'text': 'Southwood'}, {'tag': 'forename', 'text': 'K'}, {'tag': 'forename', 'text': 'L'}, {'tag': 'surname', 'text': 'Shaw'}, {'tag': 'title', 'text': 'Arch Dis Child Educ Pract Ed'}, {'tag': 'biblScope', 'text': '100'}, {'tag': 'biblScope', 'text': '6'}, {'tag': 'date', 'text': '2015'}, {'tag': 'title', 'text': 'Transition to adult services for young people with disabilities: current evidence to guide future research'}, {'tag': 'forename', 'text': 'D'}, {'tag': 'surname', 'text': 'Stewart'}, {'tag': 'title', 'text': 'Dev Med Child Neurol'}, {'tag': 'biblScope', 'text': '51'}, {'tag': 'biblScope', 'text': 'Suppl 4'}, {'tag': 'date', 'text': '2009'}, {'tag': 'title', 'text': 'Young people first, juvenile idiopathic arthritis second: transitional care in rheumatology'}, {'tag': 'forename', 'text': 'J'}, {'tag': 'forename', 'text': 'E'}, {'tag': 'surname', 'text': 'Mcdonagh'}, {'tag': 'title', 'text': 'Arthritis Rheum'}, {'tag': 'biblScope', 'text': '59'}, {'tag': 'biblScope', 'text': '8'}, {'tag': 'date', 'text': '2008'}, {'tag': 'title', 'text': 'Audit of rheumatology services for adolescents and young adults in the UK. British Pediatric rheumatology group'}, {'tag': 'forename', 'text': 'J'}, {'tag': 'forename', 'text': 'E'}, {'tag': 'surname', 'text': 'Mcdonagh'}, {'tag': 'forename', 'text': 'H'}, {'tag': 'forename', 'text': 'E'}, {'tag': 'surname', 'text': 'Foster'}, {'tag': 'forename', 'text': 'M'}, {'tag': 'forename', 'text': 'A'}, {'tag': 'surname', 'text': 'Hall'}, {'tag': 'forename', 'text': 'M'}, {'tag': 'forename', 'text': 'A'}, {'tag': 'surname', 'text': 'Chamberlain'}, {'tag': 'title', 'text': 'Rheumatology (Oxford)'}, {'tag': 'biblScope', 'text': '39'}, {'tag': 'biblScope', 'text': '6'}, {'tag': 'date', 'text': '2000'}, {'tag': 'title', 'text': 'Systematic review and critical appraisal of transitional care programmes in rheumatology'}, {'tag': 'forename', 'text': 'D'}, {'tag': 'surname', 'text': 'Clemente'}, {'tag': 'forename', 'text': 'L'}, {'tag': 'surname', 'text': 'Leon'}, {'tag': 'forename', 'text': 'H'}, {'tag': 'surname', 'text': 'Foster'}, {'tag': 'forename', 'text': 'K'}, {'tag': 'surname', 'text': 'Minden'}, {'tag': 'forename', 'text': 'L'}, {'tag': 'surname', 'text': 'Carmona'}, {'tag': 'title', 'text': 'Semin Arthritis Rheum'}, {'tag': 'biblScope', 'text': '46'}, {'tag': 'biblScope', 'text': '3'}, {'tag': 'date', 'text': '2016'}, {'tag': 'title', 'text': 'Bristish Pediatric Rheumatology G. Unmet education and training needs of rheumatology health professionals in adolescent health transitional care'}, {'tag': 'forename', 'text': 'J'}, {'tag': 'forename', 'text': 'E'}, {'tag': 'surname', 'text': 'Mcdonagh'}, {'tag': 'forename', 'text': 'T'}, {'tag': 'forename', 'text': 'R'}, {'tag': 'surname', 'text': 'Southwood'}, {'tag': 'forename', 'text': 'K'}, {'tag': 'forename', 'text': 'L'}, {'tag': 'surname', 'text': 'Shaw'}, {'tag': 'title', 'text': 'Rheumatology (Oxford)'}, {'tag': 'biblScope', 'text': '43'}, {'tag': 'biblScope', 'text': '6'}, {'tag': 'date', 'text': '2004'}, {'tag': 'title', 'text': 'Transitioning youth with rheumatic conditions: perspectives of pediatric rheumatology providers in the United States and Canada'}, {'tag': 'forename', 'text': 'P'}, {'tag': 'surname', 'text': 'Chira'}, {'tag': 'forename', 'text': 'T'}, {'tag': 'surname', 'text': 'Ronis'}, {'tag': 'forename', 'text': 'S'}, {'tag': 'surname', 'text': 'Ardoin'}, {'tag': 'forename', 'text': 'P'}, {'tag': 'surname', 'text': 'White'}, {'tag': 'title', 'text': 'J Rheumatol'}, {'tag': 'biblScope', 'text': '41'}, {'tag': 'biblScope', 'text': '4'}, {'tag': 'date', 'text': '2014'}, {'tag': 'title', 'text': 'Attitudes of rheumatology practitioners toward transition and transfer from pediatric to adult healthcare'}, {'tag': 'forename', 'text': 'D'}, {'tag': 'surname', 'text': 'Hilderson'}, {'tag': 'forename', 'text': 'P'}, {'tag': 'surname', 'text': 'Moons'}, {'tag': 'forename', 'text': 'R'}, {'tag': 'surname', 'text': 'Westhovens'}, {'tag': 'forename', 'text': 'C'}, {'tag': 'surname', 'text': 'Wouters'}, {'tag': 'title', 'text': 'Rheumatol Int'}, {'tag': 'biblScope', 'text': '32'}, {'tag': 'biblScope', 'text': '12'}, {'tag': 'date', 'text': '2012'}, {'tag': 'title', 'text': 'EULAR/PReS standards and recommendations for the transitional care of young people with juvenile-onset rheumatic diseases'}, {'tag': 'forename', 'text': 'H'}, {'tag': 'forename', 'text': 'E'}, {'tag': 'surname', 'text': 'Foster'}, {'tag': 'forename', 'text': 'K'}, {'tag': 'surname', 'text': 'Minden'}, {'tag': 'forename', 'text': 'D'}, {'tag': 'surname', 'text': 'Clemente'}, {'tag': 'forename', 'text': 'L'}, {'tag': 'surname', 'text': 'Leon'}, {'tag': 'forename', 'text': 'J'}, {'tag': 'forename', 'text': 'E'}, {'tag': 'surname', 'text': 'Mcdonagh'}, {'tag': 'forename', 'text': 'S'}, {'tag': 'surname', 'text': 'Kamphuis'}, {'tag': 'title', 'text': 'Ann Rheum Dis'}, {'tag': 'biblScope', 'text': '76'}, {'tag': 'biblScope', 'text': '4'}, {'tag': 'date', 'text': '2016'}, {'tag': 'title', 'text': 'Interval estimation for the difference between independent proportions: comparison of eleven methods'}, {'tag': 'forename', 'text': 'R'}, {'tag': 'forename', 'text': 'G'}, {'tag': 'surname', 'text': 'Newcombe'}, {'tag': 'title', 'text': 'Stat Med'}, {'tag': 'biblScope', 'text': '17'}, {'tag': 'biblScope', 'text': '8'}, {'tag': 'date', 'text': '1998'}, {'tag': 'title', 'text': 'Probable inference, the law of succession, and statistical inference'}, {'tag': 'forename', 'text': 'E'}, {'tag': 'surname', 'text': 'Wilson'}, {'tag': 'title', 'text': 'J Am Statistic Assoc'}, {'tag': 'biblScope', 'text': '22'}, {'tag': 'date', 'text': '1927'}, {'tag': 'title', 'text': 'Implementing transition: ready steady go'}, {'tag': 'forename', 'text': 'A'}, {'tag': 'surname', 'text': 'Nagra'}, {'tag': 'forename', 'text': 'P'}, {'tag': 'forename', 'text': 'M'}, {'tag': 'surname', 'text': 'Mcginnity'}, {'tag': 'forename', 'text': 'N'}, {'tag': 'surname', 'text': 'Davis'}, {'tag': 'forename', 'text': 'A'}, {'tag': 'forename', 'text': 'P'}, {'tag': 'surname', 'text': 'Salmon'}, {'tag': 'title', 'text': 'Arch Dis Child Educ Pract Ed'}, {'tag': 'biblScope', 'text': '100'}, {'tag': 'biblScope', 'text': '6'}, {'tag': 'date', 'text': '2015'}, {'tag': 'title', 'text': 'High rates of unsuccessful transfer to adult care among young adults with juvenile idiopathic arthritis'}, {'tag': 'forename', 'text': 'E'}, {'tag': 'surname', 'text': 'Hazel'}, {'tag': 'forename', 'text': 'X'}, {'tag': 'surname', 'text': 'Zhang'}, {'tag': 'forename', 'text': 'C'}, {'tag': 'forename', 'text': 'M'}, {'tag': 'surname', 'text': 'Duffy'}, {'tag': 'forename', 'text': 'S'}, {'tag': 'surname', 'text': 'Campillo'}, {'tag': 'title', 'text': 'Pediatr Rheumatol Online J'}, {'tag': 'biblScope', 'text': '8'}, {'tag': 'biblScope', 'text': '2'}, {'tag': 'date', 'text': '2010'}, {'tag': 'title', 'text': 'Adult outcomes of childhood-onset rheumatic diseases'}, {'tag': 'forename', 'text': 'A'}, {'tag': 'surname', 'text': 'Hersh'}, {'tag': 'forename', 'text': 'E'}, {'tag': 'surname', 'text': 'Von Scheven'}, {'tag': 'forename', 'text': 'E'}, {'tag': 'surname', 'text': 'Yelin'}, {'tag': 'title', 'text': 'Nat Rev Rheumatol'}, {'tag': 'biblScope', 'text': '7'}, {'tag': 'biblScope', 'text': '5'}, {'tag': 'date', 'text': '2011'}, {'tag': 'title', 'text': 'Getting into adolescent heads: an essential update'}, {'tag': 'forename', 'text': 'J'}, {'tag': 'forename', 'text': 'M'}, {'tag': 'surname', 'text': 'Goldenring'}, {'tag': 'forename', 'text': 'D'}, {'tag': 'forename', 'text': 'S'}, {'tag': 'surname', 'text': 'Rosen'}, {'tag': 'title', 'text': 'Contemp Pediatr'}, {'tag': 'biblScope', 'text': '21'}, {'tag': 'date', 'text': '2004'}]\n"
     ]
    }
   ],
   "source": [
    "# Get the first 50 records\n",
    "first_50_records = data[:1]\n",
    "\n",
    "# Print or process the records\n",
    "for record in first_50_records:\n",
    "    print(record)"
   ]
  },
  {
   "cell_type": "markdown",
   "id": "61e89ea0-63d4-4d0b-b4d5-cfbdc6e493ee",
   "metadata": {},
   "source": [
    "## NER Medical"
   ]
  },
  {
   "cell_type": "code",
   "execution_count": 1,
   "id": "662b6607-cb51-495a-b21b-8f8cb8492e31",
   "metadata": {},
   "outputs": [],
   "source": [
    "from transformers import pipeline\n",
    "from transformers import AutoTokenizer, AutoModelForTokenClassification"
   ]
  },
  {
   "cell_type": "code",
   "execution_count": 20,
   "id": "81931cd4-b358-4cab-b77f-0ecd772a485f",
   "metadata": {},
   "outputs": [],
   "source": [
    "#tokenizer = AutoTokenizer.from_pretrained(\"d4data/biomedical-ner-all\")\n",
    "#model = AutoModelForTokenClassification.from_pretrained(\"d4data/biomedical-ner-all\")\n",
    "#"
   ]
  },
  {
   "cell_type": "code",
   "execution_count": 2,
   "id": "81ec006a-0653-4f03-8bd5-c3ab6f9f8370",
   "metadata": {},
   "outputs": [],
   "source": [
    "ner_path = r'D:\\radipaem\\biomedical-ner-all'"
   ]
  },
  {
   "cell_type": "code",
   "execution_count": 3,
   "id": "16e0b2fa-5be8-42a2-86de-e438a3a7b210",
   "metadata": {},
   "outputs": [],
   "source": [
    "tokenizer = AutoTokenizer.from_pretrained(ner_path)\n",
    "model = AutoModelForTokenClassification.from_pretrained(ner_path)"
   ]
  },
  {
   "cell_type": "code",
   "execution_count": 4,
   "id": "0f7de8c9-f121-4265-a2ac-bfe3dcd7d5f6",
   "metadata": {},
   "outputs": [
    {
     "name": "stderr",
     "output_type": "stream",
     "text": [
      "Device set to use cpu\n"
     ]
    },
    {
     "data": {
      "text/plain": [
       "[{'entity_group': 'Disease_disorder',\n",
       "  'score': np.float32(0.9993943),\n",
       "  'word': 'diabetes mellitus',\n",
       "  'start': 0,\n",
       "  'end': 17},\n",
       " {'entity_group': 'Disease_disorder',\n",
       "  'score': np.float32(0.9769399),\n",
       "  'word': 'metabolic disorder',\n",
       "  'start': 31,\n",
       "  'end': 49},\n",
       " {'entity_group': 'Lab_value',\n",
       "  'score': np.float32(0.97860795),\n",
       "  'word': 'high',\n",
       "  'start': 67,\n",
       "  'end': 71},\n",
       " {'entity_group': 'Diagnostic_procedure',\n",
       "  'score': np.float32(0.9784419),\n",
       "  'word': 'sugar',\n",
       "  'start': 78,\n",
       "  'end': 83},\n",
       " {'entity_group': 'Medication',\n",
       "  'score': np.float32(0.8636727),\n",
       "  'word': 'insulin',\n",
       "  'start': 189,\n",
       "  'end': 196},\n",
       " {'entity_group': 'Sign_symptom',\n",
       "  'score': np.float32(0.7684654),\n",
       "  'word': 'ur',\n",
       "  'start': 275,\n",
       "  'end': 277},\n",
       " {'entity_group': 'Subject',\n",
       "  'score': np.float32(0.69303346),\n",
       "  'word': 'older adults',\n",
       "  'start': 343,\n",
       "  'end': 355},\n",
       " {'entity_group': 'Family_history',\n",
       "  'score': np.float32(0.7693746),\n",
       "  'word': 'family history of diabetes',\n",
       "  'start': 379,\n",
       "  'end': 405},\n",
       " {'entity_group': 'Medication',\n",
       "  'score': np.float32(0.99929714),\n",
       "  'word': 'medications',\n",
       "  'start': 447,\n",
       "  'end': 458},\n",
       " {'entity_group': 'Medication',\n",
       "  'score': np.float32(0.9978697),\n",
       "  'word': 'metformin',\n",
       "  'start': 464,\n",
       "  'end': 473},\n",
       " {'entity_group': 'Diagnostic_procedure',\n",
       "  'score': np.float32(0.8325182),\n",
       "  'word': 'blood sugar',\n",
       "  'start': 508,\n",
       "  'end': 519}]"
      ]
     },
     "execution_count": 4,
     "metadata": {},
     "output_type": "execute_result"
    }
   ],
   "source": [
    "pipe = pipeline(\"ner\", model=model, tokenizer=tokenizer, aggregation_strategy=\"simple\") # pass device=0 if using gpu\n",
    "#'''\n",
    "pipe(\"\"\"Diabetes mellitus is a chronic metabolic disorder characterized by high blood sugar levels over a prolonged period.\n",
    "\n",
    "The primary cause of diabetes is the body's inability to produce enough insulin or effectively use the insulin it produces.\n",
    "\n",
    "Common symptoms include frequent urination, increased thirst, unexplained weight loss, and fatigue.\n",
    "\n",
    "Older adults and individuals with a family history of diabetes are more susceptible to this condition.\n",
    "\n",
    "Medications like Metformin are commonly prescribed to manage blood sugar levels in diabetic patients.\n",
    "\"\"\")\n",
    "#'''\n"
   ]
  },
  {
   "cell_type": "code",
   "execution_count": 5,
   "id": "aee356ae-4f7d-483a-ae88-0e5159b1dfe5",
   "metadata": {},
   "outputs": [
    {
     "name": "stdout",
     "output_type": "stream",
     "text": [
      "['Sign_symptom', 'Subject', 'Lab_value', 'Diagnostic_procedure', 'Disease_disorder', 'Family_history', 'Medication']\n"
     ]
    }
   ],
   "source": [
    "# Input text\n",
    "text = \"\"\"Diabetes mellitus is a chronic metabolic disorder characterized by high blood sugar levels over a prolonged period.\n",
    "The primary cause of diabetes is the body's inability to produce enough insulin or effectively use the insulin it produces.\n",
    "Common symptoms include frequent urination, increased thirst, unexplained weight loss, and fatigue.\n",
    "Older adults and individuals with a family history of diabetes are more susceptible to this condition.\n",
    "Medications like Metformin are commonly prescribed to manage blood sugar levels in diabetic patients.\"\"\"\n",
    "\n",
    "# Get NER output\n",
    "ner_output = pipe(text)\n",
    "\n",
    "# Extract unique entity groups\n",
    "unique_entity_groups = list(set(entry['entity_group'] for entry in ner_output))\n",
    "\n",
    "print(unique_entity_groups)"
   ]
  },
  {
   "cell_type": "code",
   "execution_count": null,
   "id": "2ce33fb1-e3b7-445b-afe8-55afc65818ec",
   "metadata": {},
   "outputs": [],
   "source": []
  },
  {
   "cell_type": "code",
   "execution_count": 6,
   "id": "d58de5ee-1a67-43fb-a830-469c6bf3bd2b",
   "metadata": {},
   "outputs": [],
   "source": [
    "#!pip install torch transformers\n",
    "#!pip install accelerate \n",
    "#!pip install scipy\n",
    "#!pip install --upgrade transformers torch numpy scikit-learn\n"
   ]
  },
  {
   "cell_type": "markdown",
   "id": "a5a41255-6de4-498d-818d-71c39cb1dc2d",
   "metadata": {},
   "source": [
    "## Triplex model"
   ]
  },
  {
   "cell_type": "code",
   "execution_count": 7,
   "id": "a3773d3b-236c-408b-b557-9aef1a0846dc",
   "metadata": {},
   "outputs": [],
   "source": [
    "import json\n",
    "from transformers import AutoModelForCausalLM, AutoTokenizer"
   ]
  },
  {
   "cell_type": "code",
   "execution_count": 8,
   "id": "1259dd1a-55df-41bf-8038-b62d59d1fefe",
   "metadata": {},
   "outputs": [],
   "source": [
    "def triplextract(model, tokenizer, text, entity_types, predicates):\n",
    "\n",
    "    input_format = \"\"\"Perform Named Entity Recognition (NER) and extract knowledge graph triplets from the text. NER identifies named entities of given entity types, and triple extraction identifies relationships between entities using specified predicates.\n",
    "      \n",
    "        **Entity Types:**\n",
    "        {entity_types}\n",
    "        \n",
    "        **Predicates:**\n",
    "        {predicates}\n",
    "        \n",
    "        **Text:**\n",
    "        {text}\n",
    "        \"\"\"\n",
    "\n",
    "    message = input_format.format(\n",
    "                entity_types = json.dumps({\"entity_types\": entity_types}),\n",
    "                predicates = json.dumps({\"predicates\": predicates}),\n",
    "                text = text)\n",
    "\n",
    "    messages = [{'role': 'user', 'content': message}]\n",
    "    #input_ids = tokenizer.apply_chat_template(messages, add_generation_prompt = True, return_tensors=\"pt\").to(\"cuda\")\n",
    "    #output = tokenizer.decode(model.generate(input_ids=input_ids, max_length=2048)[0], skip_special_tokens=True)\n",
    "    input_ids = tokenizer.apply_chat_template(messages, add_generation_prompt = True, return_tensors=\"pt\")\n",
    "    output = tokenizer.decode(model.generate(input_ids=input_ids, max_length=2048)[0], skip_special_tokens=True)\n",
    "    return output\n"
   ]
  },
  {
   "cell_type": "code",
   "execution_count": 9,
   "id": "8eceaded-d1b8-4167-890b-a56d8b238883",
   "metadata": {},
   "outputs": [],
   "source": [
    "path = r'D:\\radipaem\\Triplex'"
   ]
  },
  {
   "cell_type": "code",
   "execution_count": 10,
   "id": "aa4624aa-34ac-48ec-a2cf-b8e70790948d",
   "metadata": {},
   "outputs": [
    {
     "data": {
      "application/vnd.jupyter.widget-view+json": {
       "model_id": "ff3fda41656c4399b2999ee678eec5e9",
       "version_major": 2,
       "version_minor": 0
      },
      "text/plain": [
       "Loading checkpoint shards:   0%|          | 0/2 [00:00<?, ?it/s]"
      ]
     },
     "metadata": {},
     "output_type": "display_data"
    }
   ],
   "source": [
    "#model = AutoModelForCausalLM.from_pretrained(path, trust_remote_code=True).to('cuda').eval()\n",
    "#tokenizer = AutoTokenizer.from_pretrained(path, trust_remote_code=True)\n",
    "model = AutoModelForCausalLM.from_pretrained(path)\n",
    "tokenizer = AutoTokenizer.from_pretrained(path)"
   ]
  },
  {
   "cell_type": "markdown",
   "id": "79bc6f8b-309c-4443-995f-145508bc779d",
   "metadata": {},
   "source": [
    "###### medical text"
   ]
  },
  {
   "cell_type": "code",
   "execution_count": 11,
   "id": "36703de2-fb24-434a-89cc-b4aa55d3ad50",
   "metadata": {},
   "outputs": [
    {
     "name": "stderr",
     "output_type": "stream",
     "text": [
      "The attention mask is not set and cannot be inferred from input because pad token is same as eos token. As a consequence, you may observe unexpected behavior. Please pass your input's `attention_mask` to obtain reliable results.\n"
     ]
    },
    {
     "name": "stdout",
     "output_type": "stream",
     "text": [
      "Perform Named Entity Recognition (NER) and extract knowledge graph triplets from the text. NER identifies named entities of given entity types, and triple extraction identifies relationships between entities using specified predicates.\n",
      "      \n",
      "        **Entity Types:**\n",
      "        {\"entity_types\": [\"Sign_symptom\", \"Subject\", \"Lab_value\", \"Diagnostic_procedure\", \"Disease_disorder\", \"Family_history\", \"Medication\"]}\n",
      "        \n",
      "        **Predicates:**\n",
      "        {\"predicates\": [\"causes\", \"associated_with\", \"risk_factor_for\", \"complication_of\", \"symptom_of\", \"diagnosed_by\", \"treated_with\", \"prescribed_for\", \"contraindicated_for\", \"side_effect_of\", \"interacts_with\", \"metabolized_by\", \"has_dosage\", \"affects\", \"located_in\", \"part_of\", \"has_test_result\", \"suggests\", \"caused_by\"]}\n",
      "        \n",
      "        **Text:**\n",
      "        Diabetes mellitus is a chronic metabolic disorder characterized by high blood sugar levels over a prolonged period.\n",
      "\n",
      "The primary cause of diabetes is the body's inability to produce enough insulin or effectively use the insulin it produces.\n",
      "\n",
      "Common symptoms include frequent urination, increased thirst, unexplained weight loss, and fatigue.\n",
      "\n",
      "Older adults and individuals with a family history of diabetes are more susceptible to this condition.\n",
      "\n",
      "Medications like Metformin are commonly prescribed to manage blood sugar levels in diabetic patients.\n",
      "\n",
      "         \n",
      "  ```json\n",
      "{\n",
      "    \"entities_and_triples\": [\n",
      "        \"[1], DiseASE_DISORDER:Diabetes mellitus\",\n",
      "        \"[2], SUBJECT:body\",\n",
      "        \"[3], SUBJECT:blood sugar levels\",\n",
      "        \"[1] CAUSED_BY [2]\",\n",
      "        \"[4], SUBJECT:insulin\",\n",
      "        \"[5], SUBJECT:frequent urination\",\n",
      "        \"[5] SYMPHYSICM_OF [1]\",\n",
      "        \"[6], SUBJECT:increased thirst\",\n",
      "        \"[6] SYMPHYSICM_OF [1]\",\n",
      "        \"[7], SUBJECT:unexplained weight loss\",\n",
      "        \"[7] SYMPHYSICM_OF [1]\",\n",
      "        \"[8], SUBJECT:fatigue\",\n",
      "        \"[8] SYMPHYSICM_OF [1]\",\n",
      "        \"[9], SUBJECT:Older adults\",\n",
      "        \"[9] RISK_FACTOR_FOR [1]\",\n",
      "        \"[10], SUBJECT:individuals\",\n",
      "        \"[10] RISK_FACTOR_FOR [1]\",\n",
      "        \"[11], SUBJECT:family history of diabetes\",\n",
      "        \"[11] RISK_FACTOR_FOR [1]\",\n",
      "        \"[12], MEDICATION:Metformin\",\n",
      "        \"[12] TREATED_WITH [1]\",\n",
      "        \"[12] PRESCRIBED_FOR [3]\",\n",
      "        \"[12] AFFECTS [3]\"\n",
      "    ]\n",
      "}\n",
      "```\n"
     ]
    }
   ],
   "source": [
    "entity_types = unique_entity_groups #[\"DISEASE\", \"SYMPTOM\", \"MEDICINE\", \"REASON\"]\n",
    "#predicates = [\"CAUSES\", \"AFFECTS\", \"TREATED_BY\", \"HAS_SYMPTOM\"]\n",
    "predicates = [\n",
    "    # Disease-Related Relations\n",
    "    \"causes\", \"associated_with\", \"risk_factor_for\", \"complication_of\", \n",
    "    \"symptom_of\", \"diagnosed_by\",\n",
    "    \n",
    "    # Treatment-Related Relations\n",
    "    \"treated_with\", \"prescribed_for\", \"contraindicated_for\", \"side_effect_of\",\n",
    "    \n",
    "    # Drug-Related Relations\n",
    "    \"interacts_with\", \"metabolized_by\", \"has_dosage\",\n",
    "    \n",
    "    # Anatomy & Physiology Relations\n",
    "    \"affects\", \"located_in\", \"part_of\",\n",
    "    \n",
    "    # General Clinical Relations\n",
    "    \"has_test_result\", \"suggests\", \"caused_by\"\n",
    "]\n",
    "text = \"\"\"Diabetes mellitus is a chronic metabolic disorder characterized by high blood sugar levels over a prolonged period.\n",
    "\n",
    "The primary cause of diabetes is the body's inability to produce enough insulin or effectively use the insulin it produces.\n",
    "\n",
    "Common symptoms include frequent urination, increased thirst, unexplained weight loss, and fatigue.\n",
    "\n",
    "Older adults and individuals with a family history of diabetes are more susceptible to this condition.\n",
    "\n",
    "Medications like Metformin are commonly prescribed to manage blood sugar levels in diabetic patients.\n",
    "\"\"\"\n",
    "prediction = triplextract(model, tokenizer, text, entity_types, predicates)\n",
    "print(prediction)"
   ]
  },
  {
   "cell_type": "code",
   "execution_count": 33,
   "id": "9b222b2c-d1f3-4d55-988d-580f0be88650",
   "metadata": {},
   "outputs": [
    {
     "data": {
      "text/plain": [
       "['Subject',\n",
       " 'Disease_disorder',\n",
       " 'Family_history',\n",
       " 'Diagnostic_procedure',\n",
       " 'Lab_value',\n",
       " 'Sign_symptom',\n",
       " 'Medication']"
      ]
     },
     "execution_count": 33,
     "metadata": {},
     "output_type": "execute_result"
    }
   ],
   "source": [
    "unique_entity_groups"
   ]
  },
  {
   "cell_type": "code",
   "execution_count": null,
   "id": "464ec771-6276-4d9f-90c3-cf5e65da0e7c",
   "metadata": {},
   "outputs": [],
   "source": []
  },
  {
   "cell_type": "code",
   "execution_count": null,
   "id": "ac4e024a-d45e-4a77-8f68-ee7c6e2cfa49",
   "metadata": {},
   "outputs": [],
   "source": []
  },
  {
   "cell_type": "code",
   "execution_count": null,
   "id": "121e4c3c-bf38-4f83-8c08-ce844e50b189",
   "metadata": {},
   "outputs": [],
   "source": []
  },
  {
   "cell_type": "code",
   "execution_count": null,
   "id": "9df2a2ff-8d56-49b0-93c8-38b677e99c3f",
   "metadata": {},
   "outputs": [],
   "source": []
  },
  {
   "cell_type": "code",
   "execution_count": 10,
   "id": "4528396b-ac3f-4811-8560-618820a99cde",
   "metadata": {},
   "outputs": [],
   "source": [
    "entity_types = [ \"LOCATION\", \"POSITION\", \"DATE\", \"CITY\", \"COUNTRY\", \"NUMBER\" ]\n",
    "predicates = [ \"POPULATION\", \"AREA\" ]\n",
    "text = \"\"\"\n",
    "San Francisco,[24] officially the City and County of San Francisco, is a commercial, financial, and cultural center in Northern California. \n",
    "\n",
    "With a population of 808,437 residents as of 2022, San Francisco is the fourth most populous city in the U.S. state of California behind Los Angeles, San Diego, and San Jose.\n",
    "\"\"\"\n",
    "\n"
   ]
  },
  {
   "cell_type": "code",
   "execution_count": 11,
   "id": "6280533a-830d-4006-8551-82ccc3b1e674",
   "metadata": {},
   "outputs": [
    {
     "name": "stderr",
     "output_type": "stream",
     "text": [
      "The attention mask is not set and cannot be inferred from input because pad token is same as eos token. As a consequence, you may observe unexpected behavior. Please pass your input's `attention_mask` to obtain reliable results.\n"
     ]
    },
    {
     "name": "stdout",
     "output_type": "stream",
     "text": [
      "Perform Named Entity Recognition (NER) and extract knowledge graph triplets from the text. NER identifies named entities of given entity types, and triple extraction identifies relationships between entities using specified predicates.\n",
      "      \n",
      "        **Entity Types:**\n",
      "        {\"entity_types\": [\"LOCATION\", \"POSITION\", \"DATE\", \"CITY\", \"COUNTRY\", \"NUMBER\"]}\n",
      "        \n",
      "        **Predicates:**\n",
      "        {\"predicates\": [\"POPULATION\", \"AREA\"]}\n",
      "        \n",
      "        **Text:**\n",
      "        \n",
      "San Francisco,[24] officially the City and County of San Francisco, is a commercial, financial, and cultural center in Northern California. \n",
      "\n",
      "With a population of 808,437 residents as of 2022, San Francisco is the fourth most populous city in the U.S. state of California behind Los Angeles, San Diego, and San Jose.\n",
      "\n",
      "         \n",
      "  ```json\n",
      "{\n",
      "    \"entities_and_triples\": [\n",
      "        \"[1], CITY:San Francisco\",\n",
      "        \"[2], LOCATION:City and County of San Francisco\",\n",
      "        \"[3], LOCATION:Northern California\",\n",
      "        \"[4], NUMBER:808,437\",\n",
      "        \"[1] POPULATION [4]\",\n",
      "        \"[5], DATE:2022\",\n",
      "        \"[6], COUNTRY:U.S.\",\n",
      "        \"[7], LOCATION:California\",\n",
      "        \"[8], CITY:Los Angeles\",\n",
      "        \"[9], CITY:San Diego\",\n",
      "        \"[10], CITY:San Jose\",\n",
      "        \"[11], POSITION:fourth most populous city\",\n",
      "        \"[12], LOCATION:San Francisco, California\",\n",
      "        \"[1] POPULATION [4]\",\n",
      "        \"[13], LOCATION:San Francisco, Los Angeles\",\n",
      "        \"[14], LOCATION:San Francisco, San Diego\",\n",
      "        \"[15], LOCATION:San Francisco, San Jose\",\n",
      "        \"[16], LOCATION:San Francisco, U.S.\",\n",
      "        \"[17], LOCATION:San Francisco, Northern California\",\n",
      "        \"[18], LOCATION:San Francisco, Los Angeles, California\",\n",
      "        \"[19], LOCATION:San Francisco, San Diego, California\",\n",
      "        \"[20], LOCATION:San Francisco, San Jose, California\"\n",
      "    ]\n",
      "}\n",
      "```\n"
     ]
    }
   ],
   "source": [
    "prediction = triplextract(model, tokenizer, text, entity_types, predicates)\n",
    "print(prediction)"
   ]
  },
  {
   "cell_type": "code",
   "execution_count": 12,
   "id": "0eeba538-88fe-4d3a-85b8-f0744d3489ef",
   "metadata": {},
   "outputs": [
    {
     "name": "stdout",
     "output_type": "stream",
     "text": [
      "Perform Named Entity Recognition (NER) and extract knowledge graph triplets from the text. NER identifies named entities of given entity types, and triple extraction identifies relationships between entities using specified predicates.\n",
      "      \n",
      "        **Entity Types:**\n",
      "        {\"entity_types\": [\"CASE\", \"LAWYER\", \"DATE\"]}\n",
      "        \n",
      "        **Predicates:**\n",
      "        {\"predicates\": [\"VERDICT\", \"CHARGES\"]}\n",
      "        \n",
      "        **Text:**\n",
      "        \n",
      "In the landmark case of Roe v. Wade (1973), lawyer Sarah Weddington successfully argued before the US Supreme Court, leading to a verdict that protected women's reproductive rights.\n",
      "\n",
      "         \n",
      "  ```json\n",
      "{\n",
      "    \"entities_and_triples\": [\n",
      "        \"[1], CASE:Roe v. Wade\",\n",
      "        \"[2], DATE:1973\",\n",
      "        \"[3], LAWYER:Sarah Weddington\",\n",
      "        \"[4], LAWYER:lawyer\",\n",
      "        \"[5], LAWYER:US Supreme Court\",\n",
      "        \"[6], LAWYER:US Supreme Court\",\n",
      "        \"[1] VERDICT [7]\",\n",
      "        \"[7], CASE:verdict that protected women's reproductive rights\",\n",
      "        \"[3] CHARGES [1]\",\n",
      "        \"[5] VERDICT [7]\",\n",
      "        \"[5] CHARGES [1]\"\n",
      "    ]\n",
      "}\n",
      "```\n"
     ]
    }
   ],
   "source": [
    "entity_types = [\"CASE\", \"LAWYER\", \"DATE\"]\n",
    "predicates = [\"VERDICT\", \"CHARGES\"]\n",
    "text = \"\"\"\n",
    "In the landmark case of Roe v. Wade (1973), lawyer Sarah Weddington successfully argued before the US Supreme Court, leading to a verdict that protected women's reproductive rights.\n",
    "\"\"\"\n",
    "prediction = triplextract(model, tokenizer, text, entity_types, predicates)\n",
    "print(prediction)"
   ]
  },
  {
   "cell_type": "code",
   "execution_count": 2,
   "id": "42158609-4deb-4b21-a8f2-86d190a2d5cd",
   "metadata": {},
   "outputs": [
    {
     "name": "stdout",
     "output_type": "stream",
     "text": [
      "\n",
      "Diabetes mellitus is a chronic metabolic disorder characterized by high blood sugar levels over a prolonged period. The primary cause of diabetes is the body's inability to produce enough insulin or effectively use the insulin it produces. Common symptoms include frequent urination, increased thirst, unexplained weight loss, and fatigue. Older adults and individuals with a family history of diabetes are more susceptible to this condition. Medications like Metformin are commonly prescribed to manage blood sugar levels in diabetic patients.\n",
      "\n"
     ]
    }
   ],
   "source": [
    "text = '''\n",
    "Diabetes mellitus is a chronic metabolic disorder characterized by high blood sugar levels over a prolonged period. The primary cause of diabetes is the body's inability to produce enough insulin or effectively use the insulin it produces. Common symptoms include frequent urination, increased thirst, unexplained weight loss, and fatigue. Older adults and individuals with a family history of diabetes are more susceptible to this condition. Medications like Metformin are commonly prescribed to manage blood sugar levels in diabetic patients.\n",
    "'''\n",
    "print(text)"
   ]
  },
  {
   "cell_type": "code",
   "execution_count": null,
   "id": "220fb371-3d7c-4be8-a902-48ef6034b88c",
   "metadata": {},
   "outputs": [],
   "source": []
  },
  {
   "cell_type": "code",
   "execution_count": null,
   "id": "51493961-eddb-47cd-94cd-7a14b3c86ce6",
   "metadata": {},
   "outputs": [],
   "source": []
  },
  {
   "cell_type": "code",
   "execution_count": 2,
   "id": "47ee1570-28f4-4802-a517-ed29127c4dff",
   "metadata": {},
   "outputs": [
    {
     "name": "stdout",
     "output_type": "stream",
     "text": [
      "False\n"
     ]
    }
   ],
   "source": [
    "import torch\n",
    "print(torch.cuda.is_available())"
   ]
  },
  {
   "cell_type": "code",
   "execution_count": 3,
   "id": "2adca09d-3e43-418e-b786-5aa2ac497492",
   "metadata": {},
   "outputs": [
    {
     "name": "stdout",
     "output_type": "stream",
     "text": [
      "2.2.2\n"
     ]
    }
   ],
   "source": [
    "import numpy as np\n",
    "print(np.__version__)"
   ]
  },
  {
   "cell_type": "code",
   "execution_count": null,
   "id": "bf1c7378-62c7-4797-be85-5dd71ca97087",
   "metadata": {},
   "outputs": [],
   "source": []
  }
 ],
 "metadata": {
  "kernelspec": {
   "display_name": "Python 3 (ipykernel)",
   "language": "python",
   "name": "python3"
  },
  "language_info": {
   "codemirror_mode": {
    "name": "ipython",
    "version": 3
   },
   "file_extension": ".py",
   "mimetype": "text/x-python",
   "name": "python",
   "nbconvert_exporter": "python",
   "pygments_lexer": "ipython3",
   "version": "3.12.4"
  }
 },
 "nbformat": 4,
 "nbformat_minor": 5
}
